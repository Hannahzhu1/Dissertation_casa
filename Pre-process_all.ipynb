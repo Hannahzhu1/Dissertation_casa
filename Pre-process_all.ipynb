{
 "cells": [
  {
   "cell_type": "code",
   "execution_count": 1,
   "id": "0b67eef8-66f1-463a-97dd-268e2bb4d689",
   "metadata": {},
   "outputs": [],
   "source": [
    "import pandas as pd \n",
    "import numpy as np\n",
    "import geopandas as gpd"
   ]
  },
  {
   "cell_type": "code",
   "execution_count": 2,
   "id": "761f4626-a4aa-4968-8906-0fcc9d51a090",
   "metadata": {},
   "outputs": [],
   "source": [
    "df = pd.read_csv('noise_data_zhuan.csv')"
   ]
  },
  {
   "cell_type": "code",
   "execution_count": 3,
   "id": "9203b48c-2bdb-40cc-8758-d56a36a8b512",
   "metadata": {},
   "outputs": [],
   "source": [
    "#drop NA\n",
    "#df.drop(df[df['zipcode']==0].index,inplace=True)"
   ]
  },
  {
   "cell_type": "code",
   "execution_count": 4,
   "id": "c1e17ee8-2954-4e82-9e42-73d2ad097409",
   "metadata": {},
   "outputs": [
    {
     "data": {
      "text/plain": [
       "Unnamed: 0                       2045820\n",
       "Unique_Key                       2045820\n",
       "Created_Date                     2045820\n",
       "Closed_Date                      2025168\n",
       "Agency                           2045820\n",
       "Agency_Name                      2045820\n",
       "Descriptor                       2045818\n",
       "Complaint_Type                   2045820\n",
       "Resolution_Description           1994446\n",
       "Resolution_Action_UpdatedDate    1994359\n",
       "zipcode                          2044301\n",
       "Borough                          2045774\n",
       "Latitude                         2032171\n",
       "Longitude                        2032171\n",
       "Location                         2032171\n",
       "dtype: int64"
      ]
     },
     "execution_count": 4,
     "metadata": {},
     "output_type": "execute_result"
    }
   ],
   "source": [
    "#Count of non-null values for every column \n",
    "df_columns = list(df.columns)\n",
    "df[df_columns].count()"
   ]
  },
  {
   "cell_type": "code",
   "execution_count": 5,
   "id": "1c740859-7c51-40cd-be49-7b3b6ff48ea2",
   "metadata": {},
   "outputs": [],
   "source": [
    "#gdf = gpd.read_file(\"ZIP_CODE_040114/ZIP_CODE_040114.shp\")\n",
    "#gdf.sort_values('ZIPCODE',inplace=True, ascending=True)\n",
    "#gdf"
   ]
  },
  {
   "cell_type": "code",
   "execution_count": 6,
   "id": "8785f8e3-50e7-4432-bffb-481844b4c7dc",
   "metadata": {},
   "outputs": [],
   "source": [
    "#gdf.drop(['POPULATION','SHAPE_AREA','SHAPE_LEN','STATE','AREA'],axis=1,inplace=True)"
   ]
  },
  {
   "cell_type": "code",
   "execution_count": 7,
   "id": "202d97c8-b42c-4742-ab22-a9aaab45b5ed",
   "metadata": {},
   "outputs": [
    {
     "data": {
      "text/plain": [
       "array([10009., 11385., 10012., 10456., 11228., 11208., 10003., 11238.,\n",
       "       10029., 10453., 11416., 11214., 11374., 10031., 11355., 11105.,\n",
       "       11435., 10025., 10027., 10075., 10305., 10457., 10018., 10452.,\n",
       "       10466., 10036., 11102., 11215., 11226., 10467., 10016., 11103.,\n",
       "       11106., 11372., 11218., 11207., 11220., 11101., 10024., 11201.,\n",
       "       10458., 11415., 11213., 11237., 10473., 10462., 11216., 11206.,\n",
       "       10128., 10034., 11434., 11377., 11362., 11203., 10451., 11230.,\n",
       "       11229., 11211., 11235., 11691., 10002., 11212., 11378., 11205.,\n",
       "       11233., 11232., 10468., 11225., 10028., 10030., 10460., 10463.,\n",
       "       10021., 11209., 10465., 10033., 10014., 10455., 10454., 10040.,\n",
       "       10472., 11368., 11217., 10032., 11373., 10035., 10026., 11366.,\n",
       "       10474., 10306., 10461., 11221., 10022., 10011., 11433., 11421.,\n",
       "       11427., 10470., 11370., 11432., 10005., 11204., 11361., 11365.,\n",
       "       11364., 10019., 11236., 10023., 10459., 11354., 11234., 10038.,\n",
       "       11356., 10001., 10309., 11219., 11428., 11417., 10301., 10013.,\n",
       "       11419., 10304., 10039., 10310., 11692., 11379., 11210., 11367.,\n",
       "       10469., 11357., 11423., 11223., 11358., 11231., 10006., 11412.,\n",
       "       11420., 11363., 10037., 11369., 10007., 11411., 10303., 11436.,\n",
       "       11375., 11418., 11224., 11104., 11222., 11429., 10475., 10312.,\n",
       "       11694., 10302., 11249., 10314., 10010., 11413., 10471., 11693.,\n",
       "       10170., 11422., 11004., 10069.,    nan, 10464., 11426., 10017.,\n",
       "       11414., 10065., 10162., 10308., 11360., 10004., 10000., 10307.,\n",
       "       11109., 11040., 10282., 10280., 11239., 11359., 11001., 10118.,\n",
       "       10112.,    83., 10281., 12345., 11697., 10169., 10044., 10020.,\n",
       "       10121., 10278., 10152., 11005., 10271., 10120., 10166., 10165.,\n",
       "       10041., 10122., 10153., 10154., 10045., 10105., 10048., 11430.,\n",
       "       10174., 10167., 10177., 10123., 10119., 10106., 10172., 10279.,\n",
       "       10158., 10115., 10171., 10107., 11242., 11371., 10178., 10103.,\n",
       "       10111., 10176., 10110., 10173., 11251., 10168., 11241.])"
      ]
     },
     "execution_count": 7,
     "metadata": {},
     "output_type": "execute_result"
    }
   ],
   "source": [
    "#Explore Incident Zip\n",
    "df['zipcode'].unique()"
   ]
  },
  {
   "cell_type": "code",
   "execution_count": 8,
   "id": "96d09bc4-6789-4afc-86ab-005ff76baa8f",
   "metadata": {},
   "outputs": [
    {
     "data": {
      "text/plain": [
       "array(['MANHATTAN', 'QUEENS', 'BRONX', 'BROOKLYN', 'STATEN ISLAND',\n",
       "       'Unspecified', nan], dtype=object)"
      ]
     },
     "execution_count": 8,
     "metadata": {},
     "output_type": "execute_result"
    }
   ],
   "source": [
    "df['Borough'].unique()"
   ]
  },
  {
   "cell_type": "code",
   "execution_count": 9,
   "id": "f992dc69-9612-44fb-b0a5-ee3125597c22",
   "metadata": {},
   "outputs": [
    {
     "data": {
      "text/plain": [
       "array(['2021-11-12 23:32:03', '2021-11-12 22:51:56',\n",
       "       '2021-11-12 21:52:21', ..., '2020-05-19 18:22:29',\n",
       "       '2020-05-19 16:08:32', '2020-05-19 23:25:31'], dtype=object)"
      ]
     },
     "execution_count": 9,
     "metadata": {},
     "output_type": "execute_result"
    }
   ],
   "source": [
    "df['Created_Date'].unique()"
   ]
  },
  {
   "cell_type": "code",
   "execution_count": 10,
   "id": "86d32eb5-67cb-4f0c-88cd-0c2772ed963b",
   "metadata": {},
   "outputs": [
    {
     "data": {
      "text/plain": [
       "array(['11/13/2021 12:01:47 AM', '11/13/2021 02:07:21 AM',\n",
       "       '11/12/2021 10:46:15 PM', ..., '05/19/2020 06:23:14 PM',\n",
       "       '05/19/2020 04:12:07 PM', '05/20/2020 12:07:49 AM'], dtype=object)"
      ]
     },
     "execution_count": 10,
     "metadata": {},
     "output_type": "execute_result"
    }
   ],
   "source": [
    "df['Closed_Date'].unique()"
   ]
  },
  {
   "cell_type": "code",
   "execution_count": 11,
   "id": "fb6aa895-2a36-4435-8641-873b0360a5f2",
   "metadata": {},
   "outputs": [
    {
     "data": {
      "text/plain": [
       "array(['New York City Police Department',\n",
       "       'Economic Development Corporation',\n",
       "       'Department of Environmental Protection', 'BCC - Brooklyn South',\n",
       "       'Department of Sanitation', 'Manhattan 03', 'Manhattan 07',\n",
       "       'Department of Information Technology and Telecommunications',\n",
       "       'Queens West 06', 'BCC - Manhattan', 'BCC - Brooklyn North',\n",
       "       'Manhattan 02', 'Manhattan 08', 'Bronx 10', 'BCC - Bronx',\n",
       "       'Manhattan 04', 'BCC - Queens West', 'Manhattan 05',\n",
       "       'Manhattan 06', 'Queens West 02', 'BCC - Queens East',\n",
       "       'BCC - Staten Island', 'Brooklyn South 10', 'Bronx 08',\n",
       "       'Brooklyn North 03', 'Manhattan 01', 'Bronx 05'], dtype=object)"
      ]
     },
     "execution_count": 11,
     "metadata": {},
     "output_type": "execute_result"
    }
   ],
   "source": [
    "df['Agency_Name'].unique()"
   ]
  },
  {
   "cell_type": "code",
   "execution_count": 12,
   "id": "3d641932-1112-407f-afce-f98562f72b28",
   "metadata": {},
   "outputs": [
    {
     "data": {
      "text/plain": [
       "array(['Noise - Street/Sidewalk', 'Noise - Residential',\n",
       "       'Noise - Vehicle', 'Noise - Commercial', 'Noise - Helicopter',\n",
       "       'Noise', 'Noise - Park', 'Noise - House of Worship',\n",
       "       'Collection Truck Noise'], dtype=object)"
      ]
     },
     "execution_count": 12,
     "metadata": {},
     "output_type": "execute_result"
    }
   ],
   "source": [
    "df['Complaint_Type'].unique()"
   ]
  },
  {
   "cell_type": "code",
   "execution_count": 13,
   "id": "40920da8-ba3c-4167-b143-ec348d5e34b7",
   "metadata": {},
   "outputs": [
    {
     "data": {
      "text/plain": [
       "array(['The Police Department responded to the complaint and took action to fix the condition.',\n",
       "       'The Police Department reviewed your complaint and provided additional information below.',\n",
       "       'The Police Department responded to the complaint and determined that police action was not necessary.',\n",
       "       'The Police Department responded to the complaint and with the information available observed no evidence of the violation at that time.',\n",
       "       'The Police Department responded to the complaint but officers were unable to gain entry into the premises.',\n",
       "       nan,\n",
       "       'The Department of Environmental Protection researched this complaint and determined that it could be closed.',\n",
       "       'The Department of Environmental Protection resolved this complaint by speaking to the complainant on the phone.',\n",
       "       'The Department of Environmental Protection did not observe a violation of the New York City Air/Noise Code at the time of inspection and could not issue a notice of violation. If the problem still exists, please call 311 and file a new complaint. If you are outside of New York City, please call (212) NEW-YORK (212-639-9675).',\n",
       "       'The Police Department responded and upon arrival those responsible for the condition were gone.',\n",
       "       'The Department of Environmental Protection determined that this complaint is a duplicate of a previously filed complaint. The original complaint is being addressed.',\n",
       "       \"This complaint does not fall under the Police Department's jurisdiction.\",\n",
       "       'The Department of Environmental Protection determined that an inspection is not warranted to investigate this complaint at this time and sent a letter to the complainant and/or respondent.',\n",
       "       'The Department of Environmental Protection requires contact with the complainant to investigate this complaint. The complaint was closed because attempts made to contact the complainant by phone and/or letter received no response.',\n",
       "       'The Department of Environmental Protection scheduled an inspection.',\n",
       "       'Your request can not be processed at this time because of insufficient contact information. Please create a new Service Request on NYC.gov and provide more detailed contact information.',\n",
       "       'The Police Department made an arrest in response to the complaint.',\n",
       "       'The Police Department issued a summons in response to the complaint.',\n",
       "       'Your report has been submitted. The City will investigate as needed. No further information will be available from 311.',\n",
       "       'The Department of Environmental Protection sent a letter to the complainant and/or respondent and the letter was returned as undeliverable.',\n",
       "       'The Police Department responded to the complaint and a report was prepared.',\n",
       "       'The Department of Environmental Protection only received one complaint for this location.  However, we did keep the area under observation for possible reoccurrence of air or noise pollution infractions.',\n",
       "       'The Department of Environmental Protection observed a violation of the New York City Air/Noise Code at the time of inspection and issued a notice of violation.',\n",
       "       'The Department of Environmental Protection requires contact with the complainant to investigate this complaint. A message was left for the complainant at the phone number provided.',\n",
       "       'The Department of Environmental Protection attempted to contact the complainant by phone, but the phone number provided was incorrect. If the problem still exists, please call 311 and file a new complaint with the correct phone number. If you are outside of New York City, please call (212) NEW-YORK (212-639-9675).',\n",
       "       \"The Department of Environmental Protection closed or canceled this complaint at the complainant's request.\",\n",
       "       'The status of this Service Request is currently not available online. Please call 311 for further assistance. If you are outside of New York City, please call (212) NEW-YORK (212-639-9675).',\n",
       "       'The New York City Economic Development Corporation determined that this issue is not within its jurisdiction because the helicopter did not belong to a tour company departing from a NYC heliport.Â\\xa0 Instead, it was most likely a law enforcement or news gathering helicopter not subject to the routing protocols established for tour helicopters. It may also have been a helicopter that departed as a charter or tour from another City but flew over NYC airspace. Helicopter tours originating from outside NYC are not subject to the same City regulations as tours departing from heliports managed by NYCEDC. Any City regulation of these flights is pre-empted by federal law and subject only to the jurisdiction of the Federal Aviation Administration. To file a complaint with the FAA, you can contact the New York Flight Standards District Office at the following web address:Â\\xa0https://www.faa.gov/about/office_org/field_offices/fsdo/',\n",
       "       'The New York City Economic Development Corporation received your complaint. You did not provide enough information for the agency to be able to act on your request. Â\\xa0In the future if you could note the date, time and place of the sighting and the direction the helicopter was travelling, as well as whether it was hovering or not, it would help in our review.Â\\xa0 We can thenÂ\\xa0 associate your complaint with a specific flight track from Port Authority or FAA records.',\n",
       "       'The Department of Environmental Protection received a letter or phone call from the alleged dog owner in response to a letter or inspection.',\n",
       "       'The Department of Environmental Protection has inspected your complaint and determined that further investigation is required. More information will be available once the condition is resolved. Please visit nyc.gov/311 or call 311 at a later time to check the status of your complaint.',\n",
       "       'The Department of Environmental Protection will keep the location under observation for idling commercial vehicles.Â\\xa0Summonses will be issued when warranted.',\n",
       "       'Your complaint has been received by the Police Department and additional information will be available later.',\n",
       "       'Please call 311 for further information. If you are outside of New York City, please call (212) NEW-YORK (212-639-9675).',\n",
       "       'Your complaint has been forwarded to the New York Police Department for a non-emergency response. Your complaint will take priority over other non-emergency complaints. 311 will have additional information in 8 hours. Please note your service request number for future reference.',\n",
       "       'The Department of Sanitation has investigated the complaint and addressed the issue. If the problem persists, call 311 to enter a new complaint. If you are outside of New York City, please call (212) NEW-YORK (212-639-9675).',\n",
       "       'The Department of Sanitation is in the process of investigating this complaint.',\n",
       "       'The Department of Sanitation investigated this complaint and found no condition at the location.',\n",
       "       'The Department of Environmental Protection attempted to investigate this complaint but the address was incorrect. If the problem still exists, please call 311 and file a new complaint with the correct address. If you are outside of New York City, please call (212) NEW-YORK (212-639-9675).',\n",
       "       'The New York City Economic Development Corporation received your complaint. You did not provide enough information for the agency to be able to act on your request. In the future if you could provide a tail number or a basic description of the helicopter, and whether it was hovering or not, it would help in our review.',\n",
       "       'The New York City Economic Development Corporation determined that this issue is not within its jurisdiction because the helicopter did not belong to a tour operating company. Instead, it was most likely a law enforcement or news gathering helicopter, which is not subject to the routing protocols established for tour helicopters.',\n",
       "       'The New York City Economic Development Corporation determined that the helicopter tour operator was operating within the limits of the New York City Helicopter Sightseeing Plan which establishes specific routing for tour flights.',\n",
       "       'The Department of Environmental Protection determined that this complaint is not under its jurisdiction and referred it to the New York Police Department for further action.',\n",
       "       'The Department of Sanitation investigated this complaint and found no violation at the location.',\n",
       "       'The Department of Environmental Protection attempted to inspect this complaint but could not gain access to the location. If the problem still exists, please call 311 and file a new complaint with additional access information. If you are outside of New York City, please call (212) NEW-YORK (212-639-9675).',\n",
       "       'The Department of Environmental Protection requires an appointment to inspect this complaint type.  Complainant information was not provided and an appointment could not be scheduled.  The complaint has been closed. If the problem still exists, please call 311 and file a new complaint including your contact information.',\n",
       "       'The Department of Environmental Protection determined that an inspection is warranted to investigate this complaint.',\n",
       "       'The Department of Environmental Protection determined that this complaint is not under its jurisdiction and referred it to another City agency for further action.',\n",
       "       'The New York City Economic Development Corporation determined that the helicopter tour operator was operating within the limits of the New York City Helicopter Sightseeing Plan which establishes specific over water routing for tour flights.',\n",
       "       'The Department of Environmental Protection spoke to the complainant via telephone and was able to resolve the complaint without inspection.',\n",
       "       'The Department of Environmental Protection requires contact with the complainant to investigate this complaint. A letter was sent after phone messages received no response.'],\n",
       "      dtype=object)"
      ]
     },
     "execution_count": 13,
     "metadata": {},
     "output_type": "execute_result"
    }
   ],
   "source": [
    "df['Resolution_Description'].unique()"
   ]
  },
  {
   "cell_type": "code",
   "execution_count": 14,
   "id": "0ce9096b-f4e4-4ad1-8e2c-51b072cef4bd",
   "metadata": {},
   "outputs": [
    {
     "data": {
      "text/plain": [
       "array(['11/13/2021 12:01:53 AM', '11/13/2021 02:07:28 AM',\n",
       "       '11/12/2021 10:46:20 PM', ..., '05/19/2020 06:23:15 PM',\n",
       "       '05/19/2020 04:12:09 PM', '05/20/2020 12:07:50 AM'], dtype=object)"
      ]
     },
     "execution_count": 14,
     "metadata": {},
     "output_type": "execute_result"
    }
   ],
   "source": [
    "df['Resolution_Action_UpdatedDate'].unique()"
   ]
  },
  {
   "cell_type": "code",
   "execution_count": 15,
   "id": "a057cc2a-53a4-4b2c-a065-603875794de5",
   "metadata": {},
   "outputs": [
    {
     "data": {
      "text/plain": [
       "array(['(40.72809840521916, -73.98098598390919)',\n",
       "       '(40.70342006960225, -73.91062391218271)',\n",
       "       '(40.727490610002285, -74.00259410868611)', ...,\n",
       "       '(40.707514854727776, -73.96637686348694)',\n",
       "       '(40.75251714092936, -73.99426122058887)',\n",
       "       '(40.6957470716964, -73.84476288202826)'], dtype=object)"
      ]
     },
     "execution_count": 15,
     "metadata": {},
     "output_type": "execute_result"
    }
   ],
   "source": [
    "df['Location'].unique()"
   ]
  },
  {
   "cell_type": "markdown",
   "id": "465ca3a4-3476-4d5b-8be6-0c964edecca9",
   "metadata": {},
   "source": [
    "## ZIP code"
   ]
  },
  {
   "cell_type": "code",
   "execution_count": 16,
   "id": "e892b4c5-a8c3-446c-ad55-0302990f4da9",
   "metadata": {},
   "outputs": [],
   "source": [
    "#Incident Zip has some issues\n",
    "## Function that cleans the Incident Zip values and returns nan for data that cannot be cleaned\n",
    "def correct_zip(zip_code):\n",
    "    try:\n",
    "        zip_code = int(float(zip_code))\n",
    "    except:\n",
    "        try:\n",
    "            zip_code = int(float(zip_code.split('-')[0]))\n",
    "        except:\n",
    "            return np.nan\n",
    "    if zip_code < 10000 or zip_code > 19999:\n",
    "        return np.nan\n",
    "    else:\n",
    "        return str(zip_code)"
   ]
  },
  {
   "cell_type": "code",
   "execution_count": 17,
   "id": "46d1ae01-b23a-42cb-b67f-11c0ea012ebe",
   "metadata": {},
   "outputs": [],
   "source": [
    "# Apply correct_zip function to clean Incident Zip data\n",
    "df['zipcode'] = df['zipcode'].apply(correct_zip)"
   ]
  },
  {
   "cell_type": "code",
   "execution_count": 18,
   "id": "cc8de941-ae0d-4436-8084-30bd8d1c559a",
   "metadata": {},
   "outputs": [],
   "source": [
    "#Remove rows from data that have incident zip as null i.e nan\n",
    "df = df[df['zipcode'].notnull()]"
   ]
  },
  {
   "cell_type": "code",
   "execution_count": 19,
   "id": "9d2396d3-91f5-404f-8aa1-790de596728c",
   "metadata": {},
   "outputs": [
    {
     "data": {
      "text/plain": [
       "Unnamed: 0                       2044296\n",
       "Unique_Key                       2044296\n",
       "Created_Date                     2044296\n",
       "Closed_Date                      2023660\n",
       "Agency                           2044296\n",
       "Agency_Name                      2044296\n",
       "Descriptor                       2044294\n",
       "Complaint_Type                   2044296\n",
       "Resolution_Description           1992925\n",
       "Resolution_Action_UpdatedDate    1992944\n",
       "zipcode                          2044296\n",
       "Borough                          2044296\n",
       "Latitude                         2032118\n",
       "Longitude                        2032118\n",
       "Location                         2032118\n",
       "dtype: int64"
      ]
     },
     "execution_count": 19,
     "metadata": {},
     "output_type": "execute_result"
    }
   ],
   "source": [
    "#Count of non-null values for every column \n",
    "df_columns = list(df.columns)\n",
    "df[df_columns].count()"
   ]
  },
  {
   "cell_type": "markdown",
   "id": "590d5b82-1905-4966-a3ea-1709cbbc34bb",
   "metadata": {},
   "source": [
    "## Borough"
   ]
  },
  {
   "cell_type": "code",
   "execution_count": 20,
   "id": "0155b0ff-af9c-4670-bf77-f1ee42f8bff2",
   "metadata": {},
   "outputs": [
    {
     "data": {
      "text/html": [
       "<div>\n",
       "<style scoped>\n",
       "    .dataframe tbody tr th:only-of-type {\n",
       "        vertical-align: middle;\n",
       "    }\n",
       "\n",
       "    .dataframe tbody tr th {\n",
       "        vertical-align: top;\n",
       "    }\n",
       "\n",
       "    .dataframe thead th {\n",
       "        text-align: right;\n",
       "    }\n",
       "</style>\n",
       "<table border=\"1\" class=\"dataframe\">\n",
       "  <thead>\n",
       "    <tr style=\"text-align: right;\">\n",
       "      <th></th>\n",
       "      <th>Agency</th>\n",
       "    </tr>\n",
       "  </thead>\n",
       "  <tbody>\n",
       "    <tr>\n",
       "      <th>46710</th>\n",
       "      <td>NYPD</td>\n",
       "    </tr>\n",
       "    <tr>\n",
       "      <th>96667</th>\n",
       "      <td>NYPD</td>\n",
       "    </tr>\n",
       "    <tr>\n",
       "      <th>112336</th>\n",
       "      <td>NYPD</td>\n",
       "    </tr>\n",
       "    <tr>\n",
       "      <th>121631</th>\n",
       "      <td>NYPD</td>\n",
       "    </tr>\n",
       "    <tr>\n",
       "      <th>135316</th>\n",
       "      <td>NYPD</td>\n",
       "    </tr>\n",
       "    <tr>\n",
       "      <th>...</th>\n",
       "      <td>...</td>\n",
       "    </tr>\n",
       "    <tr>\n",
       "      <th>1778407</th>\n",
       "      <td>NYPD</td>\n",
       "    </tr>\n",
       "    <tr>\n",
       "      <th>1831079</th>\n",
       "      <td>NYPD</td>\n",
       "    </tr>\n",
       "    <tr>\n",
       "      <th>1949973</th>\n",
       "      <td>DEP</td>\n",
       "    </tr>\n",
       "    <tr>\n",
       "      <th>2004211</th>\n",
       "      <td>DEP</td>\n",
       "    </tr>\n",
       "    <tr>\n",
       "      <th>2029384</th>\n",
       "      <td>NYPD</td>\n",
       "    </tr>\n",
       "  </tbody>\n",
       "</table>\n",
       "<p>65 rows × 1 columns</p>\n",
       "</div>"
      ],
      "text/plain": [
       "        Agency\n",
       "46710     NYPD\n",
       "96667     NYPD\n",
       "112336    NYPD\n",
       "121631    NYPD\n",
       "135316    NYPD\n",
       "...        ...\n",
       "1778407   NYPD\n",
       "1831079   NYPD\n",
       "1949973    DEP\n",
       "2004211    DEP\n",
       "2029384   NYPD\n",
       "\n",
       "[65 rows x 1 columns]"
      ]
     },
     "execution_count": 20,
     "metadata": {},
     "output_type": "execute_result"
    }
   ],
   "source": [
    "#Lets look at the unspecified boroughs, we want to be sure that removing data from df won't cause problems later on\n",
    "df[df['Borough']=='Unspecified'][['Agency']]"
   ]
  },
  {
   "cell_type": "code",
   "execution_count": 21,
   "id": "d934907f-7573-4b2e-b54e-a7ce78b6e364",
   "metadata": {},
   "outputs": [
    {
     "name": "stdout",
     "output_type": "stream",
     "text": [
      "0.003\n"
     ]
    }
   ],
   "source": [
    "# Majority of the data belongs to NYPD Agency and occurs in Staten Island\n",
    "# To ensure I don't lose too much data from NYPD, I need to ensure this accounts for a neglegible number of NYPD\n",
    "nypd_total = df[df['Agency']=='NYPD']['Borough'].count()\n",
    "nypd_unspecified = df[(df['Borough']=='Unspecified') & (df['Agency']==\"NYPD\")]['Borough'].count()\n",
    "nypd_unspec_perct = nypd_unspecified/nypd_total*100\n",
    "print(\"%1.3f\"%nypd_unspec_perct)"
   ]
  },
  {
   "cell_type": "code",
   "execution_count": 22,
   "id": "1a505c5b-421a-435e-a3b4-ff9bf37d15bf",
   "metadata": {},
   "outputs": [],
   "source": [
    "#Boroughs that are unspecified are negligible that it can be removed\n",
    "df = df[df['Borough'] != 'Unspecified']"
   ]
  },
  {
   "cell_type": "code",
   "execution_count": 23,
   "id": "dfac1c5b-2073-4585-8d3b-339363028e00",
   "metadata": {},
   "outputs": [
    {
     "data": {
      "text/plain": [
       "Unnamed: 0                       2044231\n",
       "Unique_Key                       2044231\n",
       "Created_Date                     2044231\n",
       "Closed_Date                      2023595\n",
       "Agency                           2044231\n",
       "Agency_Name                      2044231\n",
       "Descriptor                       2044229\n",
       "Complaint_Type                   2044231\n",
       "Resolution_Description           1992860\n",
       "Resolution_Action_UpdatedDate    1992879\n",
       "zipcode                          2044231\n",
       "Borough                          2044231\n",
       "Latitude                         2032057\n",
       "Longitude                        2032057\n",
       "Location                         2032057\n",
       "dtype: int64"
      ]
     },
     "execution_count": 23,
     "metadata": {},
     "output_type": "execute_result"
    }
   ],
   "source": [
    "#Count of non-null values for every column \n",
    "df_columns = list(df.columns)\n",
    "df[df_columns].count()"
   ]
  },
  {
   "cell_type": "markdown",
   "id": "4e9069ac-0000-4357-b074-0000de248291",
   "metadata": {},
   "source": [
    "## latitude/longitube/closed_date"
   ]
  },
  {
   "cell_type": "code",
   "execution_count": 24,
   "id": "0e541b41-1194-47b2-a74e-1010b34d69c0",
   "metadata": {},
   "outputs": [],
   "source": [
    "#Closed date, Latitude, and Longitude all have missing values, best to remove the rows where data in those columns are missing\n",
    "df = df[(df['Latitude'].notnull()) & (df['Longitude'].notnull()) & (df['Closed_Date'].notnull())]"
   ]
  },
  {
   "cell_type": "code",
   "execution_count": 25,
   "id": "a05a1bf2-dfb3-42ac-9d9e-a43b9b929cb6",
   "metadata": {},
   "outputs": [
    {
     "data": {
      "text/plain": [
       "Unnamed: 0                       2011426\n",
       "Unique_Key                       2011426\n",
       "Created_Date                     2011426\n",
       "Closed_Date                      2011426\n",
       "Agency                           2011426\n",
       "Agency_Name                      2011426\n",
       "Descriptor                       2011424\n",
       "Complaint_Type                   2011426\n",
       "Resolution_Description           1980561\n",
       "Resolution_Action_UpdatedDate    1980578\n",
       "zipcode                          2011426\n",
       "Borough                          2011426\n",
       "Latitude                         2011426\n",
       "Longitude                        2011426\n",
       "Location                         2011426\n",
       "dtype: int64"
      ]
     },
     "execution_count": 25,
     "metadata": {},
     "output_type": "execute_result"
    }
   ],
   "source": [
    "#Count of non-null values for every column \n",
    "df_columns = list(df.columns)\n",
    "df[df_columns].count()"
   ]
  },
  {
   "cell_type": "code",
   "execution_count": 26,
   "id": "3a8bff33-3ffb-4d87-83e5-3884cf322c08",
   "metadata": {},
   "outputs": [
    {
     "data": {
      "text/html": [
       "<div>\n",
       "<style scoped>\n",
       "    .dataframe tbody tr th:only-of-type {\n",
       "        vertical-align: middle;\n",
       "    }\n",
       "\n",
       "    .dataframe tbody tr th {\n",
       "        vertical-align: top;\n",
       "    }\n",
       "\n",
       "    .dataframe thead th {\n",
       "        text-align: right;\n",
       "    }\n",
       "</style>\n",
       "<table border=\"1\" class=\"dataframe\">\n",
       "  <thead>\n",
       "    <tr style=\"text-align: right;\">\n",
       "      <th></th>\n",
       "      <th>Unnamed: 0</th>\n",
       "      <th>Unique_Key</th>\n",
       "      <th>Created_Date</th>\n",
       "      <th>Closed_Date</th>\n",
       "      <th>Agency</th>\n",
       "      <th>Agency_Name</th>\n",
       "      <th>Descriptor</th>\n",
       "      <th>Complaint_Type</th>\n",
       "      <th>Resolution_Description</th>\n",
       "      <th>Resolution_Action_UpdatedDate</th>\n",
       "      <th>zipcode</th>\n",
       "      <th>Borough</th>\n",
       "      <th>Latitude</th>\n",
       "      <th>Longitude</th>\n",
       "      <th>Location</th>\n",
       "    </tr>\n",
       "  </thead>\n",
       "  <tbody>\n",
       "    <tr>\n",
       "      <th>0</th>\n",
       "      <td>0</td>\n",
       "      <td>52494258</td>\n",
       "      <td>2021-11-12 23:32:03</td>\n",
       "      <td>11/13/2021 12:01:47 AM</td>\n",
       "      <td>NYPD</td>\n",
       "      <td>New York City Police Department</td>\n",
       "      <td>Loud Music/Party</td>\n",
       "      <td>Noise - Street/Sidewalk</td>\n",
       "      <td>The Police Department responded to the complai...</td>\n",
       "      <td>11/13/2021 12:01:53 AM</td>\n",
       "      <td>10009</td>\n",
       "      <td>MANHATTAN</td>\n",
       "      <td>40.728098</td>\n",
       "      <td>-73.980986</td>\n",
       "      <td>(40.72809840521916, -73.98098598390919)</td>\n",
       "    </tr>\n",
       "    <tr>\n",
       "      <th>1</th>\n",
       "      <td>1</td>\n",
       "      <td>52494267</td>\n",
       "      <td>2021-11-12 22:51:56</td>\n",
       "      <td>11/13/2021 02:07:21 AM</td>\n",
       "      <td>NYPD</td>\n",
       "      <td>New York City Police Department</td>\n",
       "      <td>Loud Music/Party</td>\n",
       "      <td>Noise - Residential</td>\n",
       "      <td>The Police Department responded to the complai...</td>\n",
       "      <td>11/13/2021 02:07:28 AM</td>\n",
       "      <td>11385</td>\n",
       "      <td>QUEENS</td>\n",
       "      <td>40.703420</td>\n",
       "      <td>-73.910624</td>\n",
       "      <td>(40.70342006960225, -73.91062391218271)</td>\n",
       "    </tr>\n",
       "    <tr>\n",
       "      <th>2</th>\n",
       "      <td>2</td>\n",
       "      <td>52494269</td>\n",
       "      <td>2021-11-12 21:52:21</td>\n",
       "      <td>11/12/2021 10:46:15 PM</td>\n",
       "      <td>NYPD</td>\n",
       "      <td>New York City Police Department</td>\n",
       "      <td>Loud Music/Party</td>\n",
       "      <td>Noise - Street/Sidewalk</td>\n",
       "      <td>The Police Department responded to the complai...</td>\n",
       "      <td>11/12/2021 10:46:20 PM</td>\n",
       "      <td>10012</td>\n",
       "      <td>MANHATTAN</td>\n",
       "      <td>40.727491</td>\n",
       "      <td>-74.002594</td>\n",
       "      <td>(40.727490610002285, -74.00259410868611)</td>\n",
       "    </tr>\n",
       "    <tr>\n",
       "      <th>3</th>\n",
       "      <td>3</td>\n",
       "      <td>52762434</td>\n",
       "      <td>2021-12-10 23:07:33</td>\n",
       "      <td>12/10/2021 11:16:17 PM</td>\n",
       "      <td>NYPD</td>\n",
       "      <td>New York City Police Department</td>\n",
       "      <td>Banging/Pounding</td>\n",
       "      <td>Noise - Residential</td>\n",
       "      <td>The Police Department reviewed your complaint ...</td>\n",
       "      <td>12/10/2021 11:16:21 PM</td>\n",
       "      <td>10456</td>\n",
       "      <td>BRONX</td>\n",
       "      <td>40.838195</td>\n",
       "      <td>-73.911184</td>\n",
       "      <td>(40.83819547525466, -73.91118371113687)</td>\n",
       "    </tr>\n",
       "    <tr>\n",
       "      <th>4</th>\n",
       "      <td>4</td>\n",
       "      <td>52762435</td>\n",
       "      <td>2021-12-10 10:33:53</td>\n",
       "      <td>12/10/2021 12:20:28 PM</td>\n",
       "      <td>NYPD</td>\n",
       "      <td>New York City Police Department</td>\n",
       "      <td>Banging/Pounding</td>\n",
       "      <td>Noise - Residential</td>\n",
       "      <td>The Police Department responded to the complai...</td>\n",
       "      <td>12/10/2021 12:20:34 PM</td>\n",
       "      <td>11228</td>\n",
       "      <td>BROOKLYN</td>\n",
       "      <td>40.625777</td>\n",
       "      <td>-74.010364</td>\n",
       "      <td>(40.62577708307177, -74.01036422375117)</td>\n",
       "    </tr>\n",
       "  </tbody>\n",
       "</table>\n",
       "</div>"
      ],
      "text/plain": [
       "   Unnamed: 0  Unique_Key         Created_Date             Closed_Date Agency  \\\n",
       "0           0    52494258  2021-11-12 23:32:03  11/13/2021 12:01:47 AM   NYPD   \n",
       "1           1    52494267  2021-11-12 22:51:56  11/13/2021 02:07:21 AM   NYPD   \n",
       "2           2    52494269  2021-11-12 21:52:21  11/12/2021 10:46:15 PM   NYPD   \n",
       "3           3    52762434  2021-12-10 23:07:33  12/10/2021 11:16:17 PM   NYPD   \n",
       "4           4    52762435  2021-12-10 10:33:53  12/10/2021 12:20:28 PM   NYPD   \n",
       "\n",
       "                       Agency_Name        Descriptor           Complaint_Type  \\\n",
       "0  New York City Police Department  Loud Music/Party  Noise - Street/Sidewalk   \n",
       "1  New York City Police Department  Loud Music/Party      Noise - Residential   \n",
       "2  New York City Police Department  Loud Music/Party  Noise - Street/Sidewalk   \n",
       "3  New York City Police Department  Banging/Pounding      Noise - Residential   \n",
       "4  New York City Police Department  Banging/Pounding      Noise - Residential   \n",
       "\n",
       "                              Resolution_Description  \\\n",
       "0  The Police Department responded to the complai...   \n",
       "1  The Police Department responded to the complai...   \n",
       "2  The Police Department responded to the complai...   \n",
       "3  The Police Department reviewed your complaint ...   \n",
       "4  The Police Department responded to the complai...   \n",
       "\n",
       "  Resolution_Action_UpdatedDate zipcode    Borough   Latitude  Longitude  \\\n",
       "0        11/13/2021 12:01:53 AM   10009  MANHATTAN  40.728098 -73.980986   \n",
       "1        11/13/2021 02:07:28 AM   11385     QUEENS  40.703420 -73.910624   \n",
       "2        11/12/2021 10:46:20 PM   10012  MANHATTAN  40.727491 -74.002594   \n",
       "3        12/10/2021 11:16:21 PM   10456      BRONX  40.838195 -73.911184   \n",
       "4        12/10/2021 12:20:34 PM   11228   BROOKLYN  40.625777 -74.010364   \n",
       "\n",
       "                                   Location  \n",
       "0   (40.72809840521916, -73.98098598390919)  \n",
       "1   (40.70342006960225, -73.91062391218271)  \n",
       "2  (40.727490610002285, -74.00259410868611)  \n",
       "3   (40.83819547525466, -73.91118371113687)  \n",
       "4   (40.62577708307177, -74.01036422375117)  "
      ]
     },
     "execution_count": 26,
     "metadata": {},
     "output_type": "execute_result"
    }
   ],
   "source": [
    "df.head(5)"
   ]
  },
  {
   "cell_type": "code",
   "execution_count": 30,
   "id": "ccd53531-f2b5-4025-97a7-fc0275e1d621",
   "metadata": {},
   "outputs": [],
   "source": [
    "df['Closed_Date'] = pd.to_datetime(df['Closed_Date'],format='%m/%d/%Y %I:%M:%S %p')\n",
    "df['Created_Date'] = pd.to_datetime(df['Created_Date'])"
   ]
  },
  {
   "cell_type": "code",
   "execution_count": null,
   "id": "2dab5730-314e-43be-98aa-54e7c22688de",
   "metadata": {},
   "outputs": [],
   "source": [
    "df.head(5)"
   ]
  },
  {
   "cell_type": "code",
   "execution_count": 31,
   "id": "91848977-2169-4421-8aa6-11008df2fc67",
   "metadata": {},
   "outputs": [
    {
     "name": "stdout",
     "output_type": "stream",
     "text": [
      "<class 'pandas.core.frame.DataFrame'>\n",
      "Int64Index: 2011426 entries, 0 to 2045819\n",
      "Data columns (total 15 columns):\n",
      " #   Column                         Dtype         \n",
      "---  ------                         -----         \n",
      " 0   Unnamed: 0                     int64         \n",
      " 1   Unique_Key                     int64         \n",
      " 2   Created_Date                   datetime64[ns]\n",
      " 3   Closed_Date                    datetime64[ns]\n",
      " 4   Agency                         object        \n",
      " 5   Agency_Name                    object        \n",
      " 6   Descriptor                     object        \n",
      " 7   Complaint_Type                 object        \n",
      " 8   Resolution_Description         object        \n",
      " 9   Resolution_Action_UpdatedDate  object        \n",
      " 10  zipcode                        object        \n",
      " 11  Borough                        object        \n",
      " 12  Latitude                       float64       \n",
      " 13  Longitude                      float64       \n",
      " 14  Location                       object        \n",
      "dtypes: datetime64[ns](2), float64(2), int64(2), object(9)\n",
      "memory usage: 245.5+ MB\n"
     ]
    }
   ],
   "source": [
    "df.info()"
   ]
  },
  {
   "cell_type": "code",
   "execution_count": 32,
   "id": "2cff2a6b-1ae8-4a5b-a335-72952c4fc8eb",
   "metadata": {},
   "outputs": [],
   "source": [
    "# It would be useful to create a column to compute how long it takes to close a complaint\n",
    "df['Processing_Time'] =  df['Closed_Date'] - df['Created_Date']"
   ]
  },
  {
   "cell_type": "code",
   "execution_count": 34,
   "id": "a34ebb80-de51-4339-be31-bf566f41c613",
   "metadata": {},
   "outputs": [
    {
     "data": {
      "text/plain": [
       "count                       2011426\n",
       "mean      0 days 19:00:09.190888951\n",
       "std      94 days 21:37:05.076841268\n",
       "min           -44459 days +09:03:47\n",
       "25%                 0 days 00:21:43\n",
       "50%                 0 days 00:55:38\n",
       "75%                 0 days 03:12:56\n",
       "max               744 days 02:57:00\n",
       "Name: Processing_Time, dtype: object"
      ]
     },
     "execution_count": 34,
     "metadata": {},
     "output_type": "execute_result"
    }
   ],
   "source": [
    "# Viewing the descriptive statistics on the Processing Time can give some insights on turn around time\n",
    "df['Processing_Time'].describe()"
   ]
  },
  {
   "cell_type": "markdown",
   "id": "0a11d52c-eb95-4c6b-b174-16f5fc946da7",
   "metadata": {},
   "source": [
    "minimum processing time is negative, this means something is wrong with the date data and it should be explored"
   ]
  },
  {
   "cell_type": "code",
   "execution_count": 37,
   "id": "ea82eaf2-816c-4052-aa33-736deb03d4da",
   "metadata": {},
   "outputs": [
    {
     "data": {
      "text/html": [
       "<div>\n",
       "<style scoped>\n",
       "    .dataframe tbody tr th:only-of-type {\n",
       "        vertical-align: middle;\n",
       "    }\n",
       "\n",
       "    .dataframe tbody tr th {\n",
       "        vertical-align: top;\n",
       "    }\n",
       "\n",
       "    .dataframe thead th {\n",
       "        text-align: right;\n",
       "    }\n",
       "</style>\n",
       "<table border=\"1\" class=\"dataframe\">\n",
       "  <thead>\n",
       "    <tr style=\"text-align: right;\">\n",
       "      <th></th>\n",
       "      <th>Unnamed: 0</th>\n",
       "      <th>Unique_Key</th>\n",
       "      <th>Created_Date</th>\n",
       "      <th>Closed_Date</th>\n",
       "      <th>Agency</th>\n",
       "      <th>Agency_Name</th>\n",
       "      <th>Descriptor</th>\n",
       "      <th>Complaint_Type</th>\n",
       "      <th>Resolution_Description</th>\n",
       "      <th>Resolution_Action_UpdatedDate</th>\n",
       "      <th>zipcode</th>\n",
       "      <th>Borough</th>\n",
       "      <th>Latitude</th>\n",
       "      <th>Longitude</th>\n",
       "      <th>Location</th>\n",
       "      <th>Processing_Time</th>\n",
       "    </tr>\n",
       "  </thead>\n",
       "  <tbody>\n",
       "    <tr>\n",
       "      <th>2697</th>\n",
       "      <td>7979</td>\n",
       "      <td>48029415</td>\n",
       "      <td>2020-11-01 01:52:23</td>\n",
       "      <td>2020-11-01 01:00:02</td>\n",
       "      <td>NYPD</td>\n",
       "      <td>New York City Police Department</td>\n",
       "      <td>Loud Music/Party</td>\n",
       "      <td>Noise - Residential</td>\n",
       "      <td>The Police Department responded to the complai...</td>\n",
       "      <td>11/01/2020 01:00:04 AM</td>\n",
       "      <td>10031</td>\n",
       "      <td>MANHATTAN</td>\n",
       "      <td>40.830500</td>\n",
       "      <td>-73.948374</td>\n",
       "      <td>(40.83049998740267, -73.9483735590427)</td>\n",
       "      <td>-1 days +23:07:39</td>\n",
       "    </tr>\n",
       "    <tr>\n",
       "      <th>5607</th>\n",
       "      <td>17948</td>\n",
       "      <td>48029408</td>\n",
       "      <td>2020-11-01 01:39:11</td>\n",
       "      <td>2020-11-01 01:18:27</td>\n",
       "      <td>NYPD</td>\n",
       "      <td>New York City Police Department</td>\n",
       "      <td>Banging/Pounding</td>\n",
       "      <td>Noise - Residential</td>\n",
       "      <td>The Police Department responded to the complai...</td>\n",
       "      <td>11/01/2020 01:18:29 AM</td>\n",
       "      <td>10029</td>\n",
       "      <td>MANHATTAN</td>\n",
       "      <td>40.788883</td>\n",
       "      <td>-73.950110</td>\n",
       "      <td>(40.78888251589769, -73.95011034864612)</td>\n",
       "      <td>-1 days +23:39:16</td>\n",
       "    </tr>\n",
       "    <tr>\n",
       "      <th>9842</th>\n",
       "      <td>27354</td>\n",
       "      <td>48028421</td>\n",
       "      <td>2020-11-01 01:24:08</td>\n",
       "      <td>2020-11-01 01:03:15</td>\n",
       "      <td>NYPD</td>\n",
       "      <td>New York City Police Department</td>\n",
       "      <td>Loud Music/Party</td>\n",
       "      <td>Noise - Residential</td>\n",
       "      <td>The Police Department reviewed your complaint ...</td>\n",
       "      <td>11/01/2020 01:03:17 AM</td>\n",
       "      <td>11421</td>\n",
       "      <td>QUEENS</td>\n",
       "      <td>40.688322</td>\n",
       "      <td>-73.866617</td>\n",
       "      <td>(40.68832241767924, -73.8666170455631)</td>\n",
       "      <td>-1 days +23:39:07</td>\n",
       "    </tr>\n",
       "  </tbody>\n",
       "</table>\n",
       "</div>"
      ],
      "text/plain": [
       "      Unnamed: 0  Unique_Key        Created_Date         Closed_Date Agency  \\\n",
       "2697        7979    48029415 2020-11-01 01:52:23 2020-11-01 01:00:02   NYPD   \n",
       "5607       17948    48029408 2020-11-01 01:39:11 2020-11-01 01:18:27   NYPD   \n",
       "9842       27354    48028421 2020-11-01 01:24:08 2020-11-01 01:03:15   NYPD   \n",
       "\n",
       "                          Agency_Name        Descriptor       Complaint_Type  \\\n",
       "2697  New York City Police Department  Loud Music/Party  Noise - Residential   \n",
       "5607  New York City Police Department  Banging/Pounding  Noise - Residential   \n",
       "9842  New York City Police Department  Loud Music/Party  Noise - Residential   \n",
       "\n",
       "                                 Resolution_Description  \\\n",
       "2697  The Police Department responded to the complai...   \n",
       "5607  The Police Department responded to the complai...   \n",
       "9842  The Police Department reviewed your complaint ...   \n",
       "\n",
       "     Resolution_Action_UpdatedDate zipcode    Borough   Latitude  Longitude  \\\n",
       "2697        11/01/2020 01:00:04 AM   10031  MANHATTAN  40.830500 -73.948374   \n",
       "5607        11/01/2020 01:18:29 AM   10029  MANHATTAN  40.788883 -73.950110   \n",
       "9842        11/01/2020 01:03:17 AM   11421     QUEENS  40.688322 -73.866617   \n",
       "\n",
       "                                     Location   Processing_Time  \n",
       "2697   (40.83049998740267, -73.9483735590427) -1 days +23:07:39  \n",
       "5607  (40.78888251589769, -73.95011034864612) -1 days +23:39:16  \n",
       "9842   (40.68832241767924, -73.8666170455631) -1 days +23:39:07  "
      ]
     },
     "execution_count": 37,
     "metadata": {},
     "output_type": "execute_result"
    }
   ],
   "source": [
    "# View Prcoessing Time data that is negative\n",
    "import datetime\n",
    "df[df['Processing_Time']<datetime.timedelta(0,0,0)].head(3)"
   ]
  },
  {
   "cell_type": "markdown",
   "id": "cf212ef8-663d-4b56-aac7-13af79930c11",
   "metadata": {},
   "source": [
    "the Closed Date in some rows preceede its Created Date, thus, resulting in the negative processing time."
   ]
  },
  {
   "cell_type": "code",
   "execution_count": 38,
   "id": "baee1a84-13f6-43de-a71e-d250600e4b02",
   "metadata": {},
   "outputs": [],
   "source": [
    "# Remove all data from df that have negative Processing Time\n",
    "df = df[df['Processing_Time']>=datetime.timedelta(0,0,0)]"
   ]
  },
  {
   "cell_type": "code",
   "execution_count": 39,
   "id": "86007db4-b411-42f9-ab6c-8b65739d6a99",
   "metadata": {},
   "outputs": [
    {
     "data": {
      "text/plain": [
       "Unnamed: 0                       2011131\n",
       "Unique_Key                       2011131\n",
       "Created_Date                     2011131\n",
       "Closed_Date                      2011131\n",
       "Agency                           2011131\n",
       "Agency_Name                      2011131\n",
       "Descriptor                       2011129\n",
       "Complaint_Type                   2011131\n",
       "Resolution_Description           1980275\n",
       "Resolution_Action_UpdatedDate    1980292\n",
       "zipcode                          2011131\n",
       "Borough                          2011131\n",
       "Latitude                         2011131\n",
       "Longitude                        2011131\n",
       "Location                         2011131\n",
       "Processing_Time                  2011131\n",
       "dtype: int64"
      ]
     },
     "execution_count": 39,
     "metadata": {},
     "output_type": "execute_result"
    }
   ],
   "source": [
    "#Count of non-null values for every column \n",
    "df_columns = list(df.columns)\n",
    "df[df_columns].count()"
   ]
  },
  {
   "cell_type": "code",
   "execution_count": 42,
   "id": "ec96b977-46fc-42da-a91d-078e9dfff680",
   "metadata": {},
   "outputs": [],
   "source": [
    "#resolution has missing values, best to remove the rows where data in those columns are missing\n",
    "df = df[(df['Resolution_Description'].notnull()) & (df['Resolution_Action_UpdatedDate'].notnull())]"
   ]
  },
  {
   "cell_type": "code",
   "execution_count": 43,
   "id": "ae4cbab9-d27c-4ef2-a57f-790690e2456e",
   "metadata": {},
   "outputs": [
    {
     "data": {
      "text/plain": [
       "Unnamed: 0                       1980235\n",
       "Unique_Key                       1980235\n",
       "Created_Date                     1980235\n",
       "Closed_Date                      1980235\n",
       "Agency                           1980235\n",
       "Agency_Name                      1980235\n",
       "Descriptor                       1980233\n",
       "Complaint_Type                   1980235\n",
       "Resolution_Description           1980235\n",
       "Resolution_Action_UpdatedDate    1980235\n",
       "zipcode                          1980235\n",
       "Borough                          1980235\n",
       "Latitude                         1980235\n",
       "Longitude                        1980235\n",
       "Location                         1980235\n",
       "Processing_Time                  1980235\n",
       "dtype: int64"
      ]
     },
     "execution_count": 43,
     "metadata": {},
     "output_type": "execute_result"
    }
   ],
   "source": [
    "#Count of non-null values for every column \n",
    "df_columns = list(df.columns)\n",
    "df[df_columns].count()"
   ]
  },
  {
   "cell_type": "code",
   "execution_count": 44,
   "id": "26d4b737-8e01-4229-afd9-a1d74e4ee96c",
   "metadata": {},
   "outputs": [],
   "source": [
    "df.to_csv('noise_data_clean.csv')"
   ]
  }
 ],
 "metadata": {
  "kernelspec": {
   "display_name": "Python 3 (ipykernel)",
   "language": "python",
   "name": "python3"
  },
  "language_info": {
   "codemirror_mode": {
    "name": "ipython",
    "version": 3
   },
   "file_extension": ".py",
   "mimetype": "text/x-python",
   "name": "python",
   "nbconvert_exporter": "python",
   "pygments_lexer": "ipython3",
   "version": "3.9.6"
  }
 },
 "nbformat": 4,
 "nbformat_minor": 5
}
